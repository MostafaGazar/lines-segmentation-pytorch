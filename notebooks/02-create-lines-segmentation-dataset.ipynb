{
 "cells": [
  {
   "cell_type": "markdown",
   "metadata": {},
   "source": [
    "Check the running torch version"
   ]
  },
  {
   "cell_type": "code",
   "execution_count": 1,
   "metadata": {},
   "outputs": [
    {
     "data": {
      "text/plain": [
       "'1.2.0'"
      ]
     },
     "execution_count": 1,
     "metadata": {},
     "output_type": "execute_result"
    }
   ],
   "source": [
    "import torch\n",
    "torch.__version__"
   ]
  },
  {
   "cell_type": "code",
   "execution_count": 2,
   "metadata": {},
   "outputs": [],
   "source": [
    "import sys\n",
    "\n",
    "assert sys.version_info >= (3, 6) # Python ≥3.6 required"
   ]
  },
  {
   "cell_type": "markdown",
   "metadata": {},
   "source": [
    "# Create a dataset for lines segmentation\n",
    "\n",
    "Crop original forms images and contruct masks with the following labels: 0=background, 1=odd-numbered line, 2=even-numbered line"
   ]
  },
  {
   "cell_type": "code",
   "execution_count": 3,
   "metadata": {},
   "outputs": [],
   "source": [
    "%load_ext autoreload\n",
    "%autoreload 2\n",
    "\n",
    "import numpy as np\n",
    "\n",
    "import matplotlib.pyplot as plt\n",
    "import matplotlib.patches as patches\n",
    "%matplotlib inline\n",
    "\n",
    "import sys\n",
    "sys.path.append('..')\n",
    "\n",
    "import toml\n",
    "\n",
    "from pathlib import Path\n",
    "Path.ls = lambda x: list(x.iterdir())  # Source: https://github.com/fastai/fastai/blob/master/fastai/core.py#L236\n",
    "\n",
    "from tqdm import tqdm\n",
    "\n",
    "from PIL import Image"
   ]
  },
  {
   "cell_type": "code",
   "execution_count": 4,
   "metadata": {},
   "outputs": [],
   "source": [
    "from src.datasets import Dataset\n",
    "from src.utils import img_to_array, array_to_img"
   ]
  },
  {
   "cell_type": "code",
   "execution_count": 5,
   "metadata": {},
   "outputs": [],
   "source": [
    "lines_detector_path = Dataset.processed_data_path()/\"lines-segmentation\"\n",
    "lines_detector_images_path = lines_detector_path/\"images\"\n",
    "lines_detector_masks_path = lines_detector_path/\"masks\"\n",
    "\n",
    "lines_detector_images_path.mkdir(parents=True, exist_ok=True)\n",
    "lines_detector_masks_path.mkdir(parents=True, exist_ok=True)"
   ]
  },
  {
   "cell_type": "code",
   "execution_count": 6,
   "metadata": {},
   "outputs": [],
   "source": [
    "cache_path = Dataset.cache_data_path()/\"datasets\"\n",
    "data_path = cache_path/\"iamdb\""
   ]
  },
  {
   "cell_type": "code",
   "execution_count": 7,
   "metadata": {},
   "outputs": [],
   "source": [
    "import xml.etree.ElementTree as ElementTree\n",
    "from typing import Dict, List\n",
    "\n",
    "DOWNSAMPLE_FACTOR = 2  # If images were downsampled, the regions must also be.\n",
    "LINE_REGION_PADDING = 0  # add this many pixels around the exact coordinates\n",
    "\n",
    "def get_image_file_name_from_xml_file(filename: str) -> str:\n",
    "    \"\"\"Get the image file name.\"\"\"\n",
    "    xml_root_element = ElementTree.parse(filename).getroot()  # nosec\n",
    "    return xml_root_element.attrib['id'] + \".jpg\"\n",
    "\n",
    "def get_line_strings_from_xml_file(filename: str) -> List[str]:\n",
    "    \"\"\"Get the text content of each line. Note that we replace &quot; with \".\"\"\"\n",
    "    xml_root_element = ElementTree.parse(filename).getroot()  # nosec\n",
    "    xml_line_elements = xml_root_element.findall('handwritten-part/line')\n",
    "    return [el.attrib['text'].replace('&quot;', '\"') for el in xml_line_elements]\n",
    "\n",
    "def get_line_regions_from_xml_file(filename: str) -> List[Dict[str, int]]:\n",
    "    \"\"\"Get the line region dict for each line.\"\"\"\n",
    "    xml_root_element = ElementTree.parse(filename).getroot()  # nosec\n",
    "    xml_line_elements = xml_root_element.findall('handwritten-part/line')\n",
    "    return [_get_line_region_from_xml_element(el) for el in xml_line_elements]\n",
    "\n",
    "\n",
    "def _get_line_region_from_xml_element(xml_line) -> Dict[str, int]:\n",
    "    \"\"\"\n",
    "    line (xml element): has x, y, width, and height attributes\n",
    "    \"\"\"\n",
    "    word_elements = xml_line.findall('word/cmp')\n",
    "    x1s = [int(el.attrib['x']) for el in word_elements]\n",
    "    y1s = [int(el.attrib['y']) for el in word_elements]\n",
    "    x2s = [int(el.attrib['x']) + int(el.attrib['width']) for el in word_elements]\n",
    "    y2s = [int(el.attrib['y']) + int(el.attrib['height']) for el in word_elements]\n",
    "    return {\n",
    "        'x1': min(x1s) // DOWNSAMPLE_FACTOR - LINE_REGION_PADDING,\n",
    "        'y1': min(y1s) // DOWNSAMPLE_FACTOR - LINE_REGION_PADDING,\n",
    "        'x2': max(x2s) // DOWNSAMPLE_FACTOR + LINE_REGION_PADDING,\n",
    "        'y2': max(y2s) // DOWNSAMPLE_FACTOR + LINE_REGION_PADDING\n",
    "    }"
   ]
  },
  {
   "cell_type": "code",
   "execution_count": 8,
   "metadata": {},
   "outputs": [
    {
     "data": {
      "text/plain": [
       "1539"
      ]
     },
     "execution_count": 8,
     "metadata": {},
     "output_type": "execute_result"
    }
   ],
   "source": [
    "xml_files = list((data_path / \"xml\").glob(\"*.xml\"))\n",
    "len(xml_files)"
   ]
  },
  {
   "cell_type": "code",
   "execution_count": 9,
   "metadata": {},
   "outputs": [
    {
     "data": {
      "text/plain": [
       "PosixPath('/home/jupyter/lines-segmentation-pytorch/data/cache/datasets/iamdb/xml/h07-007.xml')"
      ]
     },
     "execution_count": 9,
     "metadata": {},
     "output_type": "execute_result"
    }
   ],
   "source": [
    "index = 0\n",
    "xml_file_name = xml_files[index]\n",
    "xml_file_name"
   ]
  },
  {
   "cell_type": "markdown",
   "metadata": {},
   "source": [
    "## Build a dataset for training"
   ]
  },
  {
   "cell_type": "markdown",
   "metadata": {},
   "source": [
    "### Crop images and save them for training\n",
    "\n",
    "Also save seperate mask images where 0=background, 1=odd-numbered line, 2=even-numbered "
   ]
  },
  {
   "cell_type": "code",
   "execution_count": 10,
   "metadata": {},
   "outputs": [],
   "source": [
    "target_height_width = 256\n",
    "\n",
    "buffer = 30"
   ]
  },
  {
   "cell_type": "markdown",
   "metadata": {},
   "source": [
    "Check cropping on one image"
   ]
  },
  {
   "cell_type": "code",
   "execution_count": 11,
   "metadata": {},
   "outputs": [
    {
     "name": "stdout",
     "output_type": "stream",
     "text": [
      "Top 345, bottom 1251, left 135, right 1150; height 906, width 1015\n",
      "Cropped image shape (906, 1015)\n"
     ]
    },
    {
     "data": {
      "text/plain": [
       "(['There is no reason to suppose that this pattern is peculiar to',\n",
       "  'Crawley. The development corporations have aimed at a varied',\n",
       "  'pattern of industry, offering a reasonable choice of',\n",
       "  'employer as well as choice of occupation for men, women and',\n",
       "  'school-leavers, with due regard to the industries',\n",
       "  'already established in their towns. Inevitably engineering,',\n",
       "  'including the motor vehicle and aircraft industries,',\n",
       "  'predominates in all the London new towns since these are',\n",
       "  'among the industries which have expanded most',\n",
       "  'during the last ten years in the country generally.'],\n",
       " <matplotlib.image.AxesImage at 0x7f4fb1dd8550>)"
      ]
     },
     "execution_count": 11,
     "metadata": {},
     "output_type": "execute_result"
    },
    {
     "data": {
      "image/png": "[encoded data removed]",
      "text/plain": [
       "<Figure size 432x288 with 1 Axes>"
      ]
     },
     "metadata": {
      "needs_background": "light"
     },
     "output_type": "display_data"
    }
   ],
   "source": [
    "image = Image.open(data_path/\"forms\"/get_image_file_name_from_xml_file(xml_file_name))\n",
    "regions = get_line_regions_from_xml_file(xml_file_name)\n",
    "lines = get_line_strings_from_xml_file(xml_file_name)\n",
    "\n",
    "left = min([region['x1'] for region in regions]) - buffer\n",
    "right = max([region['x2'] for region in regions]) + buffer\n",
    "top = min([region['y1'] for region in regions]) - buffer\n",
    "bottom = max([region['y2'] for region in regions]) + buffer\n",
    "print(f\"Top {top}, bottom {bottom}, left {left}, right {right}; height {bottom - top}, width {right - left}\")\n",
    "\n",
    "cropped_image = img_to_array(image)[top:bottom, left:right]\n",
    "print(f\"Cropped image shape {cropped_image.shape}\")\n",
    "cropped_image = array_to_img(cropped_image)\n",
    "\n",
    "lines, plt.imshow(cropped_image, cmap='gray')"
   ]
  },
  {
   "cell_type": "markdown",
   "metadata": {},
   "source": [
    "Crop all available images"
   ]
  },
  {
   "cell_type": "code",
   "execution_count": 12,
   "metadata": {},
   "outputs": [],
   "source": [
    "from typing import Tuple\n",
    "\n",
    "def crop_and_resize(image: Image, crop_box: Tuple[int, int, int, int], target_height_width: int, fill_with_white: bool) -> Image:\n",
    "    '''\n",
    "    Return a square cropped image where crop_box is a 4-tuple defining the left, upper, right, and lower pixel \n",
    "    used to crop the original image.\n",
    "    '''\n",
    "    # Crop image\n",
    "    cropped_image = image.crop(crop_box)\n",
    "    cropped_image = img_to_array(cropped_image)\n",
    "    \n",
    "    # Square and resize it\n",
    "    height, width = cropped_image.shape\n",
    "    new_height_width = max(height, width)\n",
    "    new_shape = (new_height_width, new_height_width)\n",
    "    target_size = (target_height_width, target_height_width)\n",
    "    \n",
    "    # Start with a whie square image\n",
    "    square_image = (255 if fill_with_white else 0) * np.ones(new_shape, dtype=np.uint8)\n",
    "    \n",
    "    margin_vertical = (new_height_width - height) // 2\n",
    "    margin_horizontal = (new_height_width - width) // 2\n",
    "    square_image[margin_vertical:height + margin_vertical, margin_horizontal:width + margin_horizontal] = cropped_image\n",
    "    \n",
    "    # Resize to traget final size and return to caller\n",
    "    return array_to_img(square_image).resize(target_size)"
   ]
  },
  {
   "cell_type": "code",
   "execution_count": 13,
   "metadata": {},
   "outputs": [
    {
     "name": "stderr",
     "output_type": "stream",
     "text": [
      "100%|██████████| 1539/1539 [02:13<00:00, 11.51it/s]\n"
     ]
    }
   ],
   "source": [
    "def generate_lines_detector_dataset(xml_files, debug=False):\n",
    "    if debug:\n",
    "        xml_files = xml_files[:5]\n",
    "    \n",
    "    for xml_file in tqdm(xml_files):\n",
    "        regions = get_line_regions_from_xml_file(xml_file)\n",
    "\n",
    "        image_file_name = get_image_file_name_from_xml_file(xml_file)\n",
    "        image = Image.open(data_path/\"forms\"/image_file_name)\n",
    "        image_array = img_to_array(image)\n",
    "\n",
    "        left = min([region['x1'] for region in regions]) - buffer\n",
    "        right = max([region['x2'] for region in regions]) + buffer\n",
    "        top = min([region['y1'] for region in regions]) - buffer\n",
    "        bottom = max([region['y2'] for region in regions]) + buffer\n",
    "        crop_box = (left, top, right, bottom)\n",
    "\n",
    "        # Crop image\n",
    "        cropped_image = crop_and_resize(image, crop_box, target_height_width, fill_with_white=True)\n",
    "    \n",
    "        # Deal with the masks\n",
    "        mask_image = np.zeros(image.size, dtype=np.uint8)\n",
    "        for index, line in enumerate(regions, 1):\n",
    "            width = line['x2'] - line['x1']\n",
    "            height = line['y2'] - line['y1']\n",
    "            color = 255\n",
    "\n",
    "            mask_image[line['y1']:line['y2'], line['x1']:line['x2'], ] = color\n",
    "\n",
    "        mask_image = array_to_img(mask_image)\n",
    "        mask_image = crop_and_resize(mask_image, crop_box, target_height_width, fill_with_white=False)\n",
    "\n",
    "        # Debugging\n",
    "        if debug:\n",
    "            print(f\"Top {top}, bottom {bottom}, left {left}, right {right}; height {bottom - top}, width {right - left}\")\n",
    "            print(f\"Cropped image size {cropped_image.size}\")\n",
    "            print(f\"Mask image size {mask_image.size}\")\n",
    "            \n",
    "            plt.subplot(1, 2, 1)\n",
    "            plt.imshow(cropped_image, cmap='gray')\n",
    "\n",
    "            plt.subplot(1, 2, 2)\n",
    "            plt.imshow(mask_image, cmap='gray')\n",
    "\n",
    "            plt.show()\n",
    "        else:\n",
    "            # Save the final image\n",
    "            cropped_image.save(lines_detector_images_path/f\"{xml_file.stem}.png\")\n",
    "\n",
    "            # Save the mask image\n",
    "            mask_image.save(lines_detector_masks_path/f\"{xml_file.stem}.png\")\n",
    "            \n",
    "\n",
    "generate_lines_detector_dataset(xml_files, debug=False)"
   ]
  },
  {
   "cell_type": "code",
   "execution_count": null,
   "metadata": {},
   "outputs": [],
   "source": []
  },
  {
   "cell_type": "markdown",
   "metadata": {},
   "source": [
    "## Split the data into train/valid/test"
   ]
  },
  {
   "cell_type": "code",
   "execution_count": 14,
   "metadata": {},
   "outputs": [],
   "source": [
    "lines_detector_train_images_path = lines_detector_path/\"train\"/\"images\"\n",
    "lines_detector_train_masks_path = lines_detector_path/\"train\"/\"masks\"\n",
    "\n",
    "lines_detector_valid_images_path = lines_detector_path/\"valid\"/\"images\"\n",
    "lines_detector_valid_masks_path = lines_detector_path/\"valid\"/\"masks\"\n",
    "\n",
    "lines_detector_test_images_path = lines_detector_path/\"test\"/\"images\"\n",
    "lines_detector_test_masks_path = lines_detector_path/\"test\"/\"masks\""
   ]
  },
  {
   "cell_type": "markdown",
   "metadata": {},
   "source": [
    "Get all available data"
   ]
  },
  {
   "cell_type": "code",
   "execution_count": 15,
   "metadata": {},
   "outputs": [],
   "source": [
    "sorted_image_names = sorted(lines_detector_images_path.glob(\"*.png\"))\n",
    "sorted_mask_names = sorted(lines_detector_masks_path.glob(\"*.png\"))"
   ]
  },
  {
   "cell_type": "markdown",
   "metadata": {},
   "source": [
    "Define the splits"
   ]
  },
  {
   "cell_type": "code",
   "execution_count": 16,
   "metadata": {},
   "outputs": [
    {
     "data": {
      "text/plain": [
       "(1539, 307, 246, 986)"
      ]
     },
     "execution_count": 16,
     "metadata": {},
     "output_type": "execute_result"
    }
   ],
   "source": [
    "train_test_split = .2\n",
    "train_valid_split = .2\n",
    "\n",
    "total_length = len(sorted_image_names)\n",
    "test_length = int(total_length * train_test_split)\n",
    "valid_length = int((total_length - test_length) * train_test_split)\n",
    "train_length = int(total_length - test_length - valid_length)\n",
    "\n",
    "total_length, test_length, valid_length, train_length"
   ]
  },
  {
   "cell_type": "code",
   "execution_count": 17,
   "metadata": {},
   "outputs": [
    {
     "data": {
      "text/plain": [
       "(986, 246, 307)"
      ]
     },
     "execution_count": 17,
     "metadata": {},
     "output_type": "execute_result"
    }
   ],
   "source": [
    "train_x = sorted_image_names[:train_length]\n",
    "train_y = sorted_mask_names[:train_length]\n",
    "\n",
    "valid_x = sorted_image_names[train_length : train_length + valid_length]\n",
    "valid_y = sorted_mask_names[train_length : train_length + valid_length]\n",
    "\n",
    "test_x = sorted_image_names[train_length + valid_length:]\n",
    "test_y = sorted_mask_names[train_length + valid_length:]\n",
    "\n",
    "len(train_x), len(valid_x), len(test_x)"
   ]
  },
  {
   "cell_type": "markdown",
   "metadata": {},
   "source": [
    "Remove old dirs"
   ]
  },
  {
   "cell_type": "code",
   "execution_count": 18,
   "metadata": {},
   "outputs": [],
   "source": [
    "!rm -r {lines_detector_train_images_path}\n",
    "!rm -r {lines_detector_train_masks_path}\n",
    "!rm -r {lines_detector_valid_images_path}\n",
    "!rm -r {lines_detector_valid_masks_path}\n",
    "!rm -r {lines_detector_test_images_path}\n",
    "!rm -r {lines_detector_test_masks_path}\n",
    "\n",
    "lines_detector_train_images_path.mkdir(parents=True, exist_ok=True)\n",
    "lines_detector_train_masks_path.mkdir(parents=True, exist_ok=True)\n",
    "lines_detector_valid_images_path.mkdir(parents=True, exist_ok=True)\n",
    "lines_detector_valid_masks_path.mkdir(parents=True, exist_ok=True)\n",
    "lines_detector_test_images_path.mkdir(parents=True, exist_ok=True)\n",
    "lines_detector_test_masks_path.mkdir(parents=True, exist_ok=True)"
   ]
  },
  {
   "cell_type": "markdown",
   "metadata": {},
   "source": [
    "Copy files to new dirs"
   ]
  },
  {
   "cell_type": "code",
   "execution_count": 19,
   "metadata": {},
   "outputs": [
    {
     "name": "stderr",
     "output_type": "stream",
     "text": [
      "986it [03:35,  4.57it/s]\n"
     ]
    }
   ],
   "source": [
    "for image, mask in tqdm(zip(train_x, train_y)):\n",
    "    !mv {image} {lines_detector_train_images_path}\n",
    "    !mv {mask} {lines_detector_train_masks_path}"
   ]
  },
  {
   "cell_type": "code",
   "execution_count": 20,
   "metadata": {},
   "outputs": [
    {
     "name": "stderr",
     "output_type": "stream",
     "text": [
      "246it [00:54,  4.55it/s]\n"
     ]
    }
   ],
   "source": [
    "for image, mask in tqdm(zip(valid_x, valid_y)):\n",
    "    !mv {image} {lines_detector_valid_images_path}\n",
    "    !mv {mask} {lines_detector_valid_masks_path}"
   ]
  },
  {
   "cell_type": "code",
   "execution_count": 21,
   "metadata": {},
   "outputs": [
    {
     "name": "stderr",
     "output_type": "stream",
     "text": [
      "307it [01:07,  4.56it/s]\n"
     ]
    }
   ],
   "source": [
    "for image, mask in tqdm(zip(test_x, test_y)):\n",
    "    !mv {image} {lines_detector_test_images_path}\n",
    "    !mv {mask} {lines_detector_test_masks_path}"
   ]
  },
  {
   "cell_type": "code",
   "execution_count": null,
   "metadata": {},
   "outputs": [],
   "source": []
  }
 ],
 "metadata": {
  "kernelspec": {
   "display_name": "lines-segmentation-pytorch",
   "language": "python",
   "name": "lines-segmentation-pytorch"
  },
  "language_info": {
   "codemirror_mode": {
    "name": "ipython",
    "version": 3
   },
   "file_extension": ".py",
   "mimetype": "text/x-python",
   "name": "python",
   "nbconvert_exporter": "python",
   "pygments_lexer": "ipython3",
   "version": "3.7.1"
  }
 },
 "nbformat": 4,
 "nbformat_minor": 4
}
