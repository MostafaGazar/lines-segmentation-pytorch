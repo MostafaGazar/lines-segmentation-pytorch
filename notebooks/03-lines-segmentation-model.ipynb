{
 "cells": [
  {
   "cell_type": "markdown",
   "metadata": {},
   "source": [
    "Check the running torch version"
   ]
  },
  {
   "cell_type": "code",
   "execution_count": 1,
   "metadata": {},
   "outputs": [
    {
     "data": {
      "text/plain": [
       "'1.2.0'"
      ]
     },
     "execution_count": 1,
     "metadata": {},
     "output_type": "execute_result"
    }
   ],
   "source": [
    "import torch\n",
    "torch.__version__"
   ]
  },
  {
   "cell_type": "code",
   "execution_count": 2,
   "metadata": {},
   "outputs": [],
   "source": [
    "import sys\n",
    "\n",
    "assert sys.version_info >= (3, 6) # Python ≥3.6 required"
   ]
  },
  {
   "cell_type": "code",
   "execution_count": 3,
   "metadata": {},
   "outputs": [],
   "source": [
    "device = torch.device('cuda:0' if torch.cuda.is_available() else 'cpu')"
   ]
  },
  {
   "cell_type": "markdown",
   "metadata": {},
   "source": [
    "# Build a lines segmentation model based on unet architecture \n",
    "\n",
    "Here is [the paper](https://arxiv.org/pdf/1505.04597.pdf).\n",
    "\n",
    "Checkout this [cheat sheet](https://pytorch.org/tutorials/beginner/ptcheat.html?highlight=loss) as a quick referesher."
   ]
  },
  {
   "cell_type": "code",
   "execution_count": 4,
   "metadata": {},
   "outputs": [],
   "source": [
    "%load_ext autoreload\n",
    "%autoreload 2\n",
    "\n",
    "import numpy as np\n",
    "\n",
    "import matplotlib.pyplot as plt\n",
    "%matplotlib inline\n",
    "\n",
    "import sys\n",
    "sys.path.append('..')\n",
    "\n",
    "from pathlib import Path\n",
    "Path.ls = lambda x: list(x.iterdir())  # Source: https://github.com/fastai/fastai/blob/master/fastai/core.py#L236\n",
    "\n",
    "from tqdm import tqdm\n",
    "\n",
    "from PIL import Image\n",
    "\n",
    "import torch.nn.functional as F\n",
    "from torch.utils.data import Dataset, DataLoader\n",
    "from torchvision import transforms, utils\n",
    "\n",
    "from torchsummary import summary"
   ]
  },
  {
   "cell_type": "code",
   "execution_count": 5,
   "metadata": {},
   "outputs": [],
   "source": [
    "from src.datasets import Dataset\n",
    "from src.networks import UNetMini\n",
    "from src.utils import img_to_array, array_to_img\n",
    "from src.utils import to_categorical"
   ]
  },
  {
   "cell_type": "code",
   "execution_count": 6,
   "metadata": {},
   "outputs": [],
   "source": [
    "lines_detector_path = Dataset.processed_data_path()/\"lines-segmentation\"\n",
    "\n",
    "lines_detector_train_images_path = lines_detector_path/\"train\"/\"images\"\n",
    "lines_detector_train_masks_path = lines_detector_path/\"train\"/\"masks\"\n",
    "\n",
    "lines_detector_valid_images_path = lines_detector_path/\"valid\"/\"images\"\n",
    "lines_detector_valid_masks_path = lines_detector_path/\"valid\"/\"masks\"\n",
    "\n",
    "lines_detector_test_images_path = lines_detector_path/\"test\"/\"images\"\n",
    "lines_detector_test_masks_path = lines_detector_path/\"test\"/\"masks\""
   ]
  },
  {
   "cell_type": "markdown",
   "metadata": {},
   "source": [
    "Hyperparameters"
   ]
  },
  {
   "cell_type": "code",
   "execution_count": 7,
   "metadata": {},
   "outputs": [],
   "source": [
    "batch_size = 4\n",
    "epochs = 4\n",
    "learning_rate = 0.001\n",
    "\n",
    "number_of_classes = 2"
   ]
  },
  {
   "cell_type": "code",
   "execution_count": 8,
   "metadata": {},
   "outputs": [],
   "source": [
    "model_save_path = Path(\"../weights/lines_segmentation.ckpt\")"
   ]
  },
  {
   "cell_type": "markdown",
   "metadata": {},
   "source": [
    "## Load dataset"
   ]
  },
  {
   "cell_type": "code",
   "execution_count": 9,
   "metadata": {},
   "outputs": [
    {
     "name": "stderr",
     "output_type": "stream",
     "text": [
      "986it [00:01, 821.26it/s]\n",
      "246it [00:00, 851.38it/s]\n",
      "307it [00:00, 884.15it/s]\n"
     ]
    }
   ],
   "source": [
    "def load_images_and_masks_in_path(images_path: Path, masks_path: Path):\n",
    "    x = []\n",
    "    y = []\n",
    "\n",
    "    sorted_image_names = sorted(images_path.glob(\"*.png\"))\n",
    "    sorted_mask_names = sorted(masks_path.glob(\"*.png\"))\n",
    "    for image_file_name, mask_file_name in tqdm(zip(sorted_image_names, sorted_mask_names)):\n",
    "        image = img_to_array(Image.open(image_file_name))\n",
    "        mask = img_to_array(Image.open(mask_file_name))\n",
    "\n",
    "        x.append(image)\n",
    "        y.append(mask)\n",
    "        \n",
    "    return np.array(x), np.array(y)\n",
    "\n",
    "train_images, train_masks = load_images_and_masks_in_path(lines_detector_train_images_path, lines_detector_train_masks_path)\n",
    "valid_images, valid_masks = load_images_and_masks_in_path(lines_detector_valid_images_path, lines_detector_valid_masks_path)\n",
    "test_images, test_masks = load_images_and_masks_in_path(lines_detector_test_images_path, lines_detector_test_masks_path)"
   ]
  },
  {
   "cell_type": "code",
   "execution_count": 10,
   "metadata": {},
   "outputs": [],
   "source": [
    "def get_transformations(train=False):\n",
    "    transformations = []\n",
    "    \n",
    "    # Converts the image, a PIL image, into a PyTorch Tensor\n",
    "    # It swap color axis because\n",
    "    # numpy image: H x W x C\n",
    "    # torch image: C X H X W\n",
    "    transformations.append(transforms.ToTensor())\n",
    "    \n",
    "    # Make sure we apply the same transformations to the input image and mask images\n",
    "    if train:\n",
    "        # during training, do some more transformations\n",
    "#         transformations.append(transforms.RandomHorizontalFlip())\n",
    "#         transformations.append(transforms.RandomPerspective())\n",
    "#         transformations.append(transforms.RandomRotation(degrees=(-40, 40)))\n",
    "        pass\n",
    "    \n",
    "    return transforms.Compose(transformations)"
   ]
  },
  {
   "cell_type": "code",
   "execution_count": 11,
   "metadata": {},
   "outputs": [
    {
     "name": "stdout",
     "output_type": "stream",
     "text": [
      "Train dataset has 247 batches of size 4\n",
      "Valid dataset has 62 batches of size 4\n",
      "Valid dataset has 77 batches of size 4\n"
     ]
    }
   ],
   "source": [
    "class FormsDataset(Dataset):\n",
    "\n",
    "    def __init__(self, images, masks, num_classes: int, transforms=None):\n",
    "        self.images = images\n",
    "        self.masks = masks\n",
    "        self.num_classes = num_classes\n",
    "        self.transforms = transforms\n",
    "\n",
    "    def __getitem__(self, idx):\n",
    "        image = self.images[idx]\n",
    "        image = image.astype(np.float32)\n",
    "        image = np.expand_dims(image, -1)\n",
    "        image = image / 255\n",
    "\n",
    "#         seed = random.randint(0, 2**31 - 1)\n",
    "#         random.seed(seed) # apply this seed to img tranfsorms\n",
    "#         torch.manual_seed(seed)\n",
    "        if self.transforms:\n",
    "            image = self.transforms(image)\n",
    "            \n",
    "        mask = self.masks[idx]\n",
    "        mask = mask.astype(np.float32)\n",
    "        mask = mask / 255\n",
    "        mask[mask > .7] = 1\n",
    "        mask[mask <= .7] = 0\n",
    "#         mask = mask.astype(np.uint8)\n",
    "#         mask = to_categorical(mask, self.num_classes).astype(np.int)\n",
    "\n",
    "#         random.seed(seed) # apply this seed to target tranfsorms\n",
    "#         torch.manual_seed(seed)\n",
    "        if self.transforms:\n",
    "            mask = self.transforms(mask)\n",
    "\n",
    "        return image, mask\n",
    "\n",
    "    def __len__(self):\n",
    "        return len(self.images)\n",
    "\n",
    "\n",
    "train_dataset = FormsDataset(train_images, train_masks, number_of_classes, get_transformations(True))\n",
    "train_data_loader = DataLoader(train_dataset, batch_size=batch_size, shuffle=True)\n",
    "print(f'Train dataset has {len(train_data_loader)} batches of size {batch_size}')\n",
    "\n",
    "valid_dataset = FormsDataset(valid_images, valid_masks, number_of_classes, get_transformations(False))\n",
    "valid_data_loader = DataLoader(valid_dataset, batch_size=batch_size, shuffle=True)\n",
    "print(f'Valid dataset has {len(valid_data_loader)} batches of size {batch_size}')\n",
    "\n",
    "test_dataset = FormsDataset(test_images, test_masks, number_of_classes, get_transformations(False))\n",
    "test_data_loader = DataLoader(test_dataset, batch_size=batch_size, shuffle=True)\n",
    "print(f'Valid dataset has {len(test_data_loader)} batches of size {batch_size}')"
   ]
  },
  {
   "cell_type": "markdown",
   "metadata": {},
   "source": [
    "Confirm that the dataset and loaders were initialized correctly"
   ]
  },
  {
   "cell_type": "code",
   "execution_count": 12,
   "metadata": {},
   "outputs": [
    {
     "data": {
      "text/plain": [
       "(torch.Size([1, 256, 256]), torch.Size([1, 256, 256]))"
      ]
     },
     "execution_count": 12,
     "metadata": {},
     "output_type": "execute_result"
    }
   ],
   "source": [
    "image, mask = train_dataset[0]\n",
    "image.shape, mask.shape"
   ]
  },
  {
   "cell_type": "code",
   "execution_count": 13,
   "metadata": {},
   "outputs": [
    {
     "name": "stdout",
     "output_type": "stream",
     "text": [
      "torch.Size([4, 1, 256, 256]), torch.Size([4, 1, 256, 256])\n",
      "1.0, 1.0\n"
     ]
    }
   ],
   "source": [
    "for image, mask in train_data_loader:\n",
    "    print(f\"{image.shape}, {mask.shape}\")\n",
    "    print(f\"{image.max()}, {mask.max()}\")\n",
    "    break"
   ]
  },
  {
   "cell_type": "code",
   "execution_count": null,
   "metadata": {},
   "outputs": [],
   "source": []
  },
  {
   "cell_type": "markdown",
   "metadata": {},
   "source": [
    "## Build the model"
   ]
  },
  {
   "cell_type": "code",
   "execution_count": 14,
   "metadata": {},
   "outputs": [
    {
     "name": "stdout",
     "output_type": "stream",
     "text": [
      "----------------------------------------------------------------\n",
      "        Layer (type)               Output Shape         Param #\n",
      "================================================================\n",
      "            Conv2d-1         [-1, 32, 256, 256]             320\n",
      "              ReLU-2         [-1, 32, 256, 256]               0\n",
      "         Dropout2d-3         [-1, 32, 256, 256]               0\n",
      "            Conv2d-4         [-1, 32, 256, 256]           9,248\n",
      "              ReLU-5         [-1, 32, 256, 256]               0\n",
      "         MaxPool2d-6         [-1, 32, 128, 128]               0\n",
      "            Conv2d-7         [-1, 64, 128, 128]          18,496\n",
      "              ReLU-8         [-1, 64, 128, 128]               0\n",
      "         Dropout2d-9         [-1, 64, 128, 128]               0\n",
      "           Conv2d-10         [-1, 64, 128, 128]          36,928\n",
      "             ReLU-11         [-1, 64, 128, 128]               0\n",
      "        MaxPool2d-12           [-1, 64, 64, 64]               0\n",
      "           Conv2d-13          [-1, 128, 64, 64]          73,856\n",
      "             ReLU-14          [-1, 128, 64, 64]               0\n",
      "        Dropout2d-15          [-1, 128, 64, 64]               0\n",
      "           Conv2d-16          [-1, 128, 64, 64]         147,584\n",
      "             ReLU-17          [-1, 128, 64, 64]               0\n",
      "UpsamplingNearest2d-18        [-1, 128, 128, 128]               0\n",
      "           Conv2d-19         [-1, 64, 128, 128]         110,656\n",
      "             ReLU-20         [-1, 64, 128, 128]               0\n",
      "        Dropout2d-21         [-1, 64, 128, 128]               0\n",
      "           Conv2d-22         [-1, 64, 128, 128]          36,928\n",
      "             ReLU-23         [-1, 64, 128, 128]               0\n",
      "UpsamplingNearest2d-24         [-1, 64, 256, 256]               0\n",
      "           Conv2d-25         [-1, 32, 256, 256]          27,680\n",
      "             ReLU-26         [-1, 32, 256, 256]               0\n",
      "        Dropout2d-27         [-1, 32, 256, 256]               0\n",
      "           Conv2d-28         [-1, 32, 256, 256]           9,248\n",
      "             ReLU-29         [-1, 32, 256, 256]               0\n",
      "           Conv2d-30          [-1, 2, 256, 256]              66\n",
      "================================================================\n",
      "Total params: 471,010\n",
      "Trainable params: 471,010\n",
      "Non-trainable params: 0\n",
      "----------------------------------------------------------------\n",
      "Input size (MB): 0.25\n",
      "Forward/backward pass size (MB): 315.00\n",
      "Params size (MB): 1.80\n",
      "Estimated Total Size (MB): 317.05\n",
      "----------------------------------------------------------------\n"
     ]
    }
   ],
   "source": [
    "model = UNetMini(number_of_classes).to(device)\n",
    "\n",
    "summary(model, input_size=(1, 256, 256))  # (channels, H, W)"
   ]
  },
  {
   "cell_type": "markdown",
   "metadata": {},
   "source": [
    "## Train the model"
   ]
  },
  {
   "cell_type": "markdown",
   "metadata": {},
   "source": [
    "Define loss and optimizer"
   ]
  },
  {
   "cell_type": "code",
   "execution_count": 15,
   "metadata": {},
   "outputs": [],
   "source": [
    "criterion = torch.nn.NLLLoss()\n",
    "optimizer = torch.optim.Adam(model.parameters(), lr=learning_rate)"
   ]
  },
  {
   "cell_type": "markdown",
   "metadata": {},
   "source": [
    "Start training"
   ]
  },
  {
   "cell_type": "code",
   "execution_count": 16,
   "metadata": {},
   "outputs": [
    {
     "name": "stdout",
     "output_type": "stream",
     "text": [
      "4 epochs, 247 total_steps per epoch\n",
      "Epoch [1/4], Step [100/247], Loss: 0.437021\n",
      "Epoch [1/4], Step [200/247], Loss: 0.294868\n",
      "Epoch [2/4], Step [100/247], Loss: 0.305917\n",
      "Epoch [2/4], Step [200/247], Loss: 0.179446\n",
      "Epoch [3/4], Step [100/247], Loss: 0.176930\n",
      "Epoch [3/4], Step [200/247], Loss: 0.224016\n",
      "Epoch [4/4], Step [100/247], Loss: 0.219176\n",
      "Epoch [4/4], Step [200/247], Loss: 0.201426\n"
     ]
    }
   ],
   "source": [
    "# Train the model\n",
    "total_steps = len(train_data_loader)\n",
    "print(f\"{epochs} epochs, {total_steps} total_steps per epoch\")\n",
    "\n",
    "for epoch in range(epochs):\n",
    "    for i, (images, masks) in enumerate(train_data_loader, 1):\n",
    "        images = images.to(device)\n",
    "        masks = masks.type(torch.LongTensor)\n",
    "        masks = masks.reshape(masks.shape[0], masks.shape[2], masks.shape[3])\n",
    "        masks = masks.to(device)\n",
    "        \n",
    "        # Forward pass\n",
    "        outputs = model(images)\n",
    "        softmax = F.log_softmax(outputs, dim=1)\n",
    "        loss = criterion(softmax, masks)\n",
    "        \n",
    "        # Backward and optimize\n",
    "        optimizer.zero_grad()\n",
    "        loss.backward()\n",
    "        optimizer.step()\n",
    "        \n",
    "        if (i) % 100 == 0:\n",
    "            print (f\"Epoch [{epoch + 1}/{epochs}], Step [{i}/{total_steps}], Loss: {loss.item():4f}\")"
   ]
  },
  {
   "cell_type": "markdown",
   "metadata": {},
   "source": [
    "# Save the model"
   ]
  },
  {
   "cell_type": "code",
   "execution_count": 17,
   "metadata": {},
   "outputs": [],
   "source": [
    "torch.save(model.state_dict(), model_save_path)"
   ]
  },
  {
   "cell_type": "markdown",
   "metadata": {},
   "source": [
    "## Restore the model"
   ]
  },
  {
   "cell_type": "code",
   "execution_count": 18,
   "metadata": {},
   "outputs": [
    {
     "name": "stdout",
     "output_type": "stream",
     "text": [
      "----------------------------------------------------------------\n",
      "        Layer (type)               Output Shape         Param #\n",
      "================================================================\n",
      "            Conv2d-1         [-1, 32, 256, 256]             320\n",
      "              ReLU-2         [-1, 32, 256, 256]               0\n",
      "         Dropout2d-3         [-1, 32, 256, 256]               0\n",
      "            Conv2d-4         [-1, 32, 256, 256]           9,248\n",
      "              ReLU-5         [-1, 32, 256, 256]               0\n",
      "         MaxPool2d-6         [-1, 32, 128, 128]               0\n",
      "            Conv2d-7         [-1, 64, 128, 128]          18,496\n",
      "              ReLU-8         [-1, 64, 128, 128]               0\n",
      "         Dropout2d-9         [-1, 64, 128, 128]               0\n",
      "           Conv2d-10         [-1, 64, 128, 128]          36,928\n",
      "             ReLU-11         [-1, 64, 128, 128]               0\n",
      "        MaxPool2d-12           [-1, 64, 64, 64]               0\n",
      "           Conv2d-13          [-1, 128, 64, 64]          73,856\n",
      "             ReLU-14          [-1, 128, 64, 64]               0\n",
      "        Dropout2d-15          [-1, 128, 64, 64]               0\n",
      "           Conv2d-16          [-1, 128, 64, 64]         147,584\n",
      "             ReLU-17          [-1, 128, 64, 64]               0\n",
      "UpsamplingNearest2d-18        [-1, 128, 128, 128]               0\n",
      "           Conv2d-19         [-1, 64, 128, 128]         110,656\n",
      "             ReLU-20         [-1, 64, 128, 128]               0\n",
      "        Dropout2d-21         [-1, 64, 128, 128]               0\n",
      "           Conv2d-22         [-1, 64, 128, 128]          36,928\n",
      "             ReLU-23         [-1, 64, 128, 128]               0\n",
      "UpsamplingNearest2d-24         [-1, 64, 256, 256]               0\n",
      "           Conv2d-25         [-1, 32, 256, 256]          27,680\n",
      "             ReLU-26         [-1, 32, 256, 256]               0\n",
      "        Dropout2d-27         [-1, 32, 256, 256]               0\n",
      "           Conv2d-28         [-1, 32, 256, 256]           9,248\n",
      "             ReLU-29         [-1, 32, 256, 256]               0\n",
      "           Conv2d-30          [-1, 2, 256, 256]              66\n",
      "================================================================\n",
      "Total params: 471,010\n",
      "Trainable params: 471,010\n",
      "Non-trainable params: 0\n",
      "----------------------------------------------------------------\n",
      "Input size (MB): 0.25\n",
      "Forward/backward pass size (MB): 315.00\n",
      "Params size (MB): 1.80\n",
      "Estimated Total Size (MB): 317.05\n",
      "----------------------------------------------------------------\n"
     ]
    }
   ],
   "source": [
    "model = UNetMini(number_of_classes).to(device)\n",
    "model.load_state_dict(torch.load(model_save_path, map_location=torch.device('cpu')))\n",
    "model.eval()\n",
    "\n",
    "summary(model, input_size=(1, 256, 256))  # (channels, H, W)"
   ]
  },
  {
   "cell_type": "markdown",
   "metadata": {},
   "source": [
    "## Test the model"
   ]
  },
  {
   "cell_type": "code",
   "execution_count": 19,
   "metadata": {},
   "outputs": [
    {
     "name": "stdout",
     "output_type": "stream",
     "text": [
      "18166068 / 20119552\n",
      "Test Accuracy of the model on the 308 test images: 90.2906 %\n"
     ]
    }
   ],
   "source": [
    "# Test the model\n",
    "model.eval()  # eval mode (batchnorm uses moving mean/variance instead of mini-batch mean/variance)\n",
    "with torch.no_grad():\n",
    "    correct = 0\n",
    "    total = 0\n",
    "    for images, masks in test_data_loader:\n",
    "        images = images.to(device)\n",
    "        masks = masks.type(torch.LongTensor)\n",
    "        masks = masks.reshape(masks.shape[0], masks.shape[2], masks.shape[3])\n",
    "        masks = masks.to(device)\n",
    "        \n",
    "        outputs = model(images)\n",
    "        _, predicted = torch.max(outputs.data, 1)\n",
    "        correct += (predicted == masks).sum().item()\n",
    "        \n",
    "        mul = 1\n",
    "        for d in masks.shape:\n",
    "            mul *= d\n",
    "        total += mul\n",
    "\n",
    "    print(f\"{correct} / {total}\")\n",
    "    print(f\"Test Accuracy of the model on the {len(test_data_loader) * batch_size} test images: {100 * correct / total:.4f} %\")"
   ]
  },
  {
   "cell_type": "code",
   "execution_count": 20,
   "metadata": {},
   "outputs": [],
   "source": [
    "index = 0"
   ]
  },
  {
   "cell_type": "code",
   "execution_count": 21,
   "metadata": {},
   "outputs": [
    {
     "data": {
      "image/png": "[encoded data removed]",
      "text/plain": [
       "<PIL.Image.Image image mode=L size=256x256 at 0x7F649A2875D0>"
      ]
     },
     "execution_count": 21,
     "metadata": {},
     "output_type": "execute_result"
    }
   ],
   "source": [
    "image = images[index].cpu().numpy()\n",
    "image = np.transpose(image, (1, 2, 0))\n",
    "image = np.squeeze(image) * 255\n",
    "image = image.astype(np.uint8)\n",
    "\n",
    "array_to_img(image)"
   ]
  },
  {
   "cell_type": "code",
   "execution_count": 22,
   "metadata": {},
   "outputs": [
    {
     "data": {
      "text/plain": [
       "(3, 2, 256, 256)"
      ]
     },
     "execution_count": 22,
     "metadata": {},
     "output_type": "execute_result"
    }
   ],
   "source": [
    "softmax = F.softmax(outputs, dim=1).cpu().numpy()\n",
    "softmax.shape"
   ]
  },
  {
   "cell_type": "code",
   "execution_count": 23,
   "metadata": {},
   "outputs": [
    {
     "data": {
      "text/plain": [
       "(11.91637134552002, 1.0)"
      ]
     },
     "execution_count": 23,
     "metadata": {},
     "output_type": "execute_result"
    }
   ],
   "source": [
    "outputs.max().item(), softmax.max().item()"
   ]
  },
  {
   "cell_type": "code",
   "execution_count": 24,
   "metadata": {},
   "outputs": [
    {
     "data": {
      "text/plain": [
       "(dtype('float32'), (256, 256, 2))"
      ]
     },
     "execution_count": 24,
     "metadata": {},
     "output_type": "execute_result"
    }
   ],
   "source": [
    "image_array = np.transpose(softmax[index], (1, 2, 0))\n",
    "image_array.dtype, image_array.shape"
   ]
  },
  {
   "cell_type": "code",
   "execution_count": 25,
   "metadata": {},
   "outputs": [
    {
     "data": {
      "text/plain": [
       "(dtype('uint8'), (256, 256), 0, 85.45005798339844, 255)"
      ]
     },
     "execution_count": 25,
     "metadata": {},
     "output_type": "execute_result"
    }
   ],
   "source": [
    "image_array = np.argmax(image_array, axis=2) * 255\n",
    "# image_array = np.expand_dims(image_array, axis=-1)\n",
    "image_array = image_array.astype(np.uint8)\n",
    "image_array.dtype, image_array.shape, image_array.min(), image_array.mean(), image_array.max()"
   ]
  },
  {
   "cell_type": "code",
   "execution_count": 26,
   "metadata": {},
   "outputs": [
    {
     "data": {
      "text/plain": [
       "numpy.ndarray"
      ]
     },
     "execution_count": 26,
     "metadata": {},
     "output_type": "execute_result"
    }
   ],
   "source": [
    "type(image_array)"
   ]
  },
  {
   "cell_type": "code",
   "execution_count": 27,
   "metadata": {},
   "outputs": [],
   "source": [
    "# for row in image_array:\n",
    "#     if np.max(row) > 0:\n",
    "#         print(row)\n",
    "#     else:\n",
    "#         print(\">> EMPTY ROW <<\")"
   ]
  },
  {
   "cell_type": "code",
   "execution_count": 28,
   "metadata": {},
   "outputs": [
    {
     "data": {
      "image/png": "[encoded data removed]",
      "text/plain": [
       "<PIL.Image.Image image mode=L size=256x256 at 0x7F64F008F790>"
      ]
     },
     "execution_count": 28,
     "metadata": {},
     "output_type": "execute_result"
    }
   ],
   "source": [
    "array_to_img(image_array)"
   ]
  },
  {
   "cell_type": "code",
   "execution_count": null,
   "metadata": {},
   "outputs": [],
   "source": []
  }
 ],
 "metadata": {
  "kernelspec": {
   "display_name": "lines-segmentation-pytorch",
   "language": "python",
   "name": "lines-segmentation-pytorch"
  },
  "language_info": {
   "codemirror_mode": {
    "name": "ipython",
    "version": 3
   },
   "file_extension": ".py",
   "mimetype": "text/x-python",
   "name": "python",
   "nbconvert_exporter": "python",
   "pygments_lexer": "ipython3",
   "version": "3.7.1"
  }
 },
 "nbformat": 4,
 "nbformat_minor": 4
}
